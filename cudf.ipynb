{
 "cells": [
  {
   "cell_type": "code",
   "execution_count": 2,
   "metadata": {
    "id": "XyQ4pTyStkSi"
   },
   "outputs": [],
   "source": [
    "from multiprocessing import Pool\n",
    "import torch\n",
    "import pandas as pd\n",
    "import cudf\n",
    "import random\n",
    "import multiprocessing\n",
    "import heapq\n",
    "import hill_climbing2\n",
    "import start\n",
    "import time"
   ]
  },
  {
   "cell_type": "code",
   "execution_count": null,
   "metadata": {
    "colab": {
     "base_uri": "https://localhost:8080/"
    },
    "id": "lvxK0kMEYoVD",
    "outputId": "1d7236f6-00bc-45e2-acae-9e10eccd3e3a"
   },
   "outputs": [
    {
     "name": "stdout",
     "output_type": "stream",
     "text": [
      "start time 1714019190.252877\n"
     ]
    }
   ],
   "source": [
    "#cpu with pytorch\n",
    "#run with the cudf data\n",
    "\n",
    "num_of_cores = 5\n",
    "num_total_solutions = 10\n",
    "\n",
    "def generate_random_tuple(num_of_cores):\n",
    "    return list(random.random() for _ in range(num_of_cores))\n",
    "\n",
    "parentUPQ = []\n",
    "qthreshold_tuple = generate_random_tuple(num_of_cores)\n",
    "pidthreshold_tuple = generate_random_tuple(num_of_cores)\n",
    "qralign_tuple = generate_random_tuple(num_of_cores)\n",
    "new_tuple = []\n",
    "\n",
    "for i in range(num_of_cores):\n",
    " list_= [qthreshold_tuple[i],pidthreshold_tuple[i], qralign_tuple[i]]\n",
    " new_tuple.append(tuple(list_))\n",
    "   \n",
    "torch.multiprocessing.set_start_method('spawn', force=True)\n",
    "\n",
    "start_time = time.time()\n",
    "print(\"start time\", start_time)\n",
    "if __name__ == '__main__':\n",
    "    with torch.multiprocessing.Pool(processes=num_of_cores) as pool:\n",
    "        results = pool.map(hill_climbing2.hill_climbing_2, new_tuple)\n",
    "end_time = time.time()\n",
    "time_taken = end_time - start_time\n",
    "print(time_taken)"
   ]
  },
  {
   "cell_type": "code",
   "execution_count": null,
   "metadata": {},
   "outputs": [],
   "source": []
  }
 ],
 "metadata": {
  "colab": {
   "provenance": []
  },
  "kernelspec": {
   "display_name": "Python 3 (ipykernel)",
   "language": "python",
   "name": "python3"
  },
  "language_info": {
   "codemirror_mode": {
    "name": "ipython",
    "version": 3
   },
   "file_extension": ".py",
   "mimetype": "text/x-python",
   "name": "python",
   "nbconvert_exporter": "python",
   "pygments_lexer": "ipython3",
   "version": "3.8.13"
  }
 },
 "nbformat": 4,
 "nbformat_minor": 4
}
